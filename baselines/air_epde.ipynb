{
 "cells": [
  {
   "cell_type": "code",
   "execution_count": null,
   "id": "b01455c7",
   "metadata": {},
   "outputs": [],
   "source": [
    "pip install fastparquet"
   ]
  },
  {
   "cell_type": "code",
   "execution_count": null,
   "id": "19c1cd0f",
   "metadata": {},
   "outputs": [],
   "source": [
    "import git"
   ]
  },
  {
   "cell_type": "code",
   "execution_count": null,
   "id": "c55f29be",
   "metadata": {},
   "outputs": [],
   "source": [
    "import os\n",
    "import math\n",
    "import numpy as np\n",
    "import pandas as pd\n",
    "import plotly\n",
    "import plotly.graph_objects as go\n",
    "import plotly.express as px\n",
    "from pathlib import Path\n",
    "import matplotlib.pyplot as plt\n",
    "from mpl_toolkits.mplot3d import Axes3D\n",
    "from matplotlib import image\n",
    "import matplotlib.dates as mdates\n",
    "from scipy import stats\n",
    "from datetime import timedelta"
   ]
  },
  {
   "cell_type": "code",
   "execution_count": null,
   "id": "0decba19",
   "metadata": {},
   "outputs": [],
   "source": [
    "import torch"
   ]
  },
  {
   "cell_type": "code",
   "execution_count": null,
   "id": "ab7c56c4",
   "metadata": {},
   "outputs": [],
   "source": [
    "import sys\n",
    "print(sys.executable)"
   ]
  },
  {
   "cell_type": "code",
   "execution_count": null,
   "id": "85c0943e",
   "metadata": {},
   "outputs": [],
   "source": [
    "PATH_TO_EPDE = \"C:\\\\Users\\\\Ksenia\\\\jupyter310\\\\Lib\\\\site-packages\\\\epde\\\\\"\n",
    "sys.path.append(PATH_TO_EPDE)"
   ]
  },
  {
   "cell_type": "code",
   "execution_count": null,
   "id": "cddc3040",
   "metadata": {},
   "outputs": [],
   "source": [
    "import epde"
   ]
  },
  {
   "cell_type": "code",
   "execution_count": null,
   "id": "208b1fef",
   "metadata": {},
   "outputs": [],
   "source": [
    "from epde.control import ControlExp, ConstrLocation, ConditionalLoss, ControlConstrEq, ControlConstrNEq\n",
    "from epde.interface.prepared_tokens import DerivSignFunction"
   ]
  },
  {
   "cell_type": "code",
   "execution_count": null,
   "id": "2cc37291",
   "metadata": {},
   "outputs": [],
   "source": [
    "from epde.interface.interface import EpdeMultisample"
   ]
  },
  {
   "cell_type": "code",
   "execution_count": null,
   "id": "a7f4de5e",
   "metadata": {
    "scrolled": true
   },
   "outputs": [],
   "source": [
    "epde.__dict__"
   ]
  },
  {
   "cell_type": "code",
   "execution_count": null,
   "id": "a8cb03a8",
   "metadata": {},
   "outputs": [],
   "source": [
    "file_path = Path(r'C:\\Users\\Ksenia\\NSS\\ODE_projects\\air_qual')  \n",
    "\n",
    "data_file = file_path / 'AllYearsES1.parquet'\n",
    "data = pd.read_parquet(data_file)"
   ]
  },
  {
   "cell_type": "code",
   "execution_count": null,
   "id": "e46a2952",
   "metadata": {},
   "outputs": [],
   "source": [
    "station = 'Cidade Continental' #change\n",
    "\n",
    "data = data[data['Estacao'] == station]\n",
    "data['datetime'] = pd.to_datetime(data['Data'] + ' ' + data['Hora'], format='mixed', errors='coerce')\n",
    "data = data.dropna(subset=['datetime'])\n",
    "data.set_index('datetime', inplace=True)\n",
    "data = data.sort_index()"
   ]
  },
  {
   "cell_type": "code",
   "execution_count": null,
   "id": "f944c578",
   "metadata": {},
   "outputs": [],
   "source": [
    "mp_10 = data[data['Poluente'] == 'MP10']\n",
    "df = mp_10[['Valor']].dropna()"
   ]
  },
  {
   "cell_type": "code",
   "execution_count": null,
   "id": "4ce45ad1",
   "metadata": {},
   "outputs": [],
   "source": [
    "hours_to_epde = 72"
   ]
  },
  {
   "cell_type": "code",
   "execution_count": null,
   "id": "ef95a1ad",
   "metadata": {},
   "outputs": [],
   "source": [
    "time_end = df.index.max()\n",
    "time_start = time_end - timedelta(hours=hours_to_epde)\n",
    "time_data = df[time_start:time_end].copy()\n",
    "full_index = pd.date_range(\n",
    "    start=time_data.index.min().floor('T'),\n",
    "    end=time_data.index.max().ceil('T'),\n",
    "    freq='5T'  \n",
    ")\n",
    "regular_data = pd.DataFrame(index=full_index)\n",
    "time_data = time_data.combine_first(regular_data)\n",
    "time_data = time_data[~time_data.index.duplicated(keep='first')]\n",
    "time_data = time_data.sort_index()\n",
    "value = time_data['Valor'].interpolate(method='time')\n"
   ]
  },
  {
   "cell_type": "code",
   "execution_count": null,
   "id": "4a2fb824",
   "metadata": {},
   "outputs": [],
   "source": [
    "# EPDE initialization for one exact station\n",
    "bnd = 1000\n",
    "n_epochs = 100\n",
    "popsize = 5\n",
    "max_axis_idx = x.ndim - 1\n",
    "t = np.arange(0, len(x))  # Time values\n",
    "\n",
    "diff_mode = 'FD'\n",
    "\n",
    "# Initialize EPDE search object\n",
    "epde_search_obj = epde.EpdeSearch(use_solver=False, multiobjective_mode=True,\n",
    "                                  boundary=bnd, dimensionality=max_axis_idx,\n",
    "                                  coordinate_tensors=[t, ])\n",
    "\n",
    "# Set equation factors limits\n",
    "factors_max_number = {'factors_num': [1, 2], 'probas': [0.6, 0.4]}\n",
    "\n",
    "# Set differentiation mode\n",
    "if diff_mode == 'ANN':\n",
    "    epde_search_obj.set_preprocessor(default_preprocessor_type='ANN',\n",
    "                                     preprocessor_kwargs={'epochs_max': 50000})\n",
    "elif diff_mode == 'poly':\n",
    "    epde_search_obj.set_preprocessor(default_preprocessor_type='poly',\n",
    "                                     preprocessor_kwargs={'use_smoothing': False, \n",
    "                                                          'sigma': 1,\n",
    "                                                          'polynomial_window': 3, \n",
    "                                                          'poly_order': 3})\n",
    "elif diff_mode == 'FD':\n",
    "    epde_search_obj.set_preprocessor(default_preprocessor_type='FD')\n",
    "else:\n",
    "    raise NotImplementedError('Incorrect differentiation mode selected.')\n",
    "\n",
    "# Define tokens for EPDE\n",
    "trig_tokens = epde.TrigonometricTokens(freq=(0.95, 1.05), dimensionality=max_axis_idx)\n",
    "\n",
    "# Set MOEA/DD parameters for EPDE\n",
    "epde_search_obj.set_moeadd_params(population_size=popsize, training_epochs=n_epochs)\n",
    "\n",
    "# Perform EPDE fitting\n",
    "epde_search_obj.fit(data=[value], variable_names=['u'], max_deriv_order=(2,),\n",
    "                    equation_terms_max_number=4, data_fun_pow=2,\n",
    "                    additional_tokens=[trig_tokens],\n",
    "                    equation_factors_max_number=factors_max_number,\n",
    "                    eq_sparsity_interval=(1e-12, 1e-10))\n",
    "\n",
    "# Extract and display the resulting equations\n",
    "res = epde_search_obj.equations(True)\n",
    "print(res)\n",
    "\n",
    "# Save `res` to a CSV file for further use\n",
    "# res.to_csv('results.csv')"
   ]
  },
  {
   "cell_type": "code",
   "execution_count": null,
   "id": "e5d98c93",
   "metadata": {},
   "outputs": [],
   "source": [
    "num_samples = 817\n",
    "monte_carlo_samples = pd.DataFrame(index=value.index, columns=value.columns)\n",
    "for column in df.columns:\n",
    "    mean_value = df[column].mean()\n",
    "    std_dev = df[column].std()\n",
    "    min_value = df[column].min()\n",
    "    max_value = df[column].max()\n",
    "    for i in range(num_samples):\n",
    "        current_mean = df[column].iloc[i % df.shape[0]]\n",
    "        current_std_dev = std_dev * 0.01\n",
    "        noise = np.random.normal(loc=0, scale=current_std_dev)\n",
    "        sample = current_mean + noise\n",
    "        sample = np.clip(sample, min_value, max_value)\n",
    "        monte_carlo_samples.loc[i, column] = sample\n",
    "\n",
    "monte_carlo_samples = monte_carlo_samples.dropna()\n",
    "\n",
    "# Calculate pairwise distances and select similar rows\n",
    "distances = pairwise_distances(df, monte_carlo_samples)\n",
    "threshold = 2.0\n",
    "similar_rows = [monte_carlo_samples.iloc[j] for j in range(distances.shape[1]) if distances[0][j] < threshold]\n",
    "new_coeff = pd.DataFrame(similar_rows)\n",
    "new_coeff.columns = monte_carlo_samples.columns\n",
    "\n",
    "\n",
    "def construct_general_equation_dict(new_coeff):\n",
    "    equations = []\n",
    "    for _, row in new_coeff.iterrows():\n",
    "        # Eequations based on terms observed in the dataset\n",
    "        equation_dict = {\n",
    "            'u{power: 1.0}': {'coeff': row.get('u{power: 1.0}', 0.0), \n",
    "                               'term': [[None]], \n",
    "                               'pow': [1.0], \n",
    "                               'var': [0]},\n",
    "            'du/dx0{power: 1.0}': {'coeff': row.get('du/dx0{power: 1.0}', 0.0), \n",
    "                                    'term': [[0]], \n",
    "                                    'pow': [1.0], \n",
    "                                    'var': [0]},\n",
    "            'd^2u/dx0^2{power: 1.0}': {'coeff': row.get('d^2u/dx0^2{power: 1.0}', 0.0), \n",
    "                                        'term': [[1]], \n",
    "                                        'pow': [1.0], \n",
    "                                        'var': [0]},\n",
    "            'u{power: 2.0}': {'coeff': row.get('u{power: 2.0}', 0.0), \n",
    "                              'term': [[None]], \n",
    "                              'pow': [2.0], \n",
    "                              'var': [0]},\n",
    "            ' cos{power: 1.0}': {'coeff': row.get( 'cos{power: 1.0}', 0.0), \n",
    "                                                  'term': [[2]], \n",
    "                                                  'pow': [2.0, 1.0], \n",
    "                                                  'var': [0]},\n",
    "\n",
    "        }\n",
    "        \n",
    "        # Append the dictionary for this equation\n",
    "        equations.append(equation_dict)\n",
    "    \n",
    "    return equations\n",
    "\n",
    "eqs = [Equation() for i in range(10)]\n",
    "    for eq_idx, eq in enumerate(eqs):\n",
    "        eq.add(equations[eq_idx])\n",
    "\n",
    "def build_ann() -> torch.nn.Sequential:\n",
    "    \"\"\"Creates a feedforward neural network with 3 hidden layers using Tanh activation.\"\"\"\n",
    "    return torch.nn.Sequential(\n",
    "        torch.nn.Linear(2, 100),  # Input layer (2 features) -> first hidden layer (100 neurons)\n",
    "        torch.nn.Tanh(),         # Activation (Tanh)\n",
    "        torch.nn.Linear(100, 100),  # First hidden layer -> second hidden layer\n",
    "        torch.nn.Tanh(),         # Activation (Tanh)\n",
    "        torch.nn.Linear(100, 100),  # Second hidden layer -> third hidden layer\n",
    "        torch.nn.Tanh(),         # Activation (Tanh)\n",
    "        torch.nn.Linear(100, 1)  # Third hidden layer -> output layer (1 neuron)\n",
    "    )\n",
    "\n",
    "   #Build one ANN per equation\n",
    "   anns = [build_ann() for _ in eqs]\n",
    "    c_cache = cache.Cache(cache_verbose=False, model_randomize_parameter=1e-6)\n",
    "    cb_es = early_stopping.EarlyStopping(eps=1e-5,\n",
    "                                         loss_window=100,\n",
    "                                         no_improvement_patience=1000,\n",
    "                                         patience=5,\n",
    "                                         randomize_parameter=1e-10,\n",
    "                                         info_string_every=500\n",
    "                                         )\n",
    "    cb_plots = plot.Plots(save_every=None, print_every=None)\n",
    "    # Optimizer for model training\n",
    "    optimizer = Optimizer('Adam', {'lr': 1e-3})\n",
    "\n",
    "print(f'eqs are {eqs}')\n",
    "start = time.time()\n",
    "for eq_idx, equation in enumerate(eqs):\n",
    "    model = Model(anns[eq_idx], domain, equation, boundaries)  # batch_size = 390\n",
    "    # print('batch size', model.batch_size)\n",
    "    model.compile('NN', lambda_operator=1, lambda_bound=100)\n",
    "    model.train(optimizer, 3000, save_model=False, callbacks=[cb_es, c_cache, cb_plots])\n",
    "    end = time.time()\n",
    "    print('Time taken 10= ', end - start)\n",
    "\n",
    "    solutions = []\n",
    "    for net_idx, net in enumerate(anns):\n",
    "        anns[net_idx] = net.to(device=device_type())\n",
    "        solutions.append(anns[net_idx](domain.build('NN')))  # .detach().numpy().reshape(-1))\n",
    "        solutions_tensor = torch.stack(solutions, dim=0)  # Tensor containing all solutions\n",
    "print(f\"Solutions tensor shape: {solutions_tensor.shape}\")\n",
    "average_solution_tensor = solutions_tensor.mean(dim=0)\n",
    "average_solution = average_solution_tensor.detach().numpy().reshape(-1)  # Reshape to 1D for saving\n",
    "#Save solutions to results storage\n",
    "pt_directory = r''\n",
    "os.makedirs(pt_directory, exist_ok=True)\n",
    "solution_file_name = f\"several_solutions_{len(solutions)}_shape_{solutions_tensor.shape}.pt\"\n",
    "torch.save(solutions_tensor, os.path.join(pt_directory, pt_file_name))"
   ]
  },
  {
   "cell_type": "code",
   "execution_count": null,
   "id": "03604453",
   "metadata": {},
   "outputs": [],
   "source": []
  }
 ],
 "metadata": {
  "kernelspec": {
   "display_name": "Python 3.10 (myenv)",
   "language": "python",
   "name": "py310"
  },
  "language_info": {
   "codemirror_mode": {
    "name": "ipython",
    "version": 3
   },
   "file_extension": ".py",
   "mimetype": "text/x-python",
   "name": "python",
   "nbconvert_exporter": "python",
   "pygments_lexer": "ipython3",
   "version": "3.10.0"
  }
 },
 "nbformat": 4,
 "nbformat_minor": 5
}
